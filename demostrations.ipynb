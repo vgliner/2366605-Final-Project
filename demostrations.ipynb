{
 "cells": [
  {
   "cell_type": "markdown",
   "metadata": {},
   "source": [
    "# 236605 Final Project"
   ]
  },
  {
   "cell_type": "markdown",
   "metadata": {},
   "source": [
    "## KNN Demonstration "
   ]
  },
  {
   "cell_type": "code",
   "execution_count": 1,
   "metadata": {},
   "outputs": [],
   "source": [
    "import sklearn as sk\n",
    "import matplotlib.pyplot as plt\n",
    "import torchvision.transforms as tvtf\n",
    "from ECG_multi_lead_dataloader import *\n",
    "import transforms as tf\n",
    "import torchvision\n",
    "import torch\n",
    "import knn_classifier as knn\n",
    "import os"
   ]
  },
  {
   "cell_type": "code",
   "execution_count": 3,
   "metadata": {},
   "outputs": [],
   "source": [
    "# Define the transforms that should be applied to each ECG record before returning it\n",
    "tf_ds = tvtf.Compose([\n",
    "    tf.ECG_tuple_transform(-1) # Reshape to 1D Tensor\n",
    "])"
   ]
  },
  {
   "cell_type": "code",
   "execution_count": 4,
   "metadata": {},
   "outputs": [
    {
     "name": "stdout",
     "output_type": "stream",
     "text": [
      "Loaded data with type of: <class 'list'>\n",
      "Loaded data with type of: <class 'list'>\n",
      "Loaded data with type of: <class 'list'>\n",
      "Loaded data with type of: <class 'list'>\n",
      "Loaded data with type of: <class 'list'>\n",
      "Loaded data with type of: <class 'list'>\n",
      "Loaded data with type of: <class 'list'>\n",
      "Loaded data with type of: <class 'list'>\n",
      "Loaded data with type of: <class 'list'>\n",
      "Loaded data with type of: <class 'list'>\n",
      "Loaded data with type of: <class 'list'>\n",
      "Uploaded data, size of (41830, 2)\n"
     ]
    }
   ],
   "source": [
    "root_dir = r'C:\\Users\\noam\\Desktop\\vadimDB'+'\\\\'\n",
    "\n",
    "ECG_test=ECG_Multilead_Dataset(root_dir=root_dir,transform= tf_ds) # For KNN demo"
   ]
  },
  {
   "cell_type": "code",
   "execution_count": 8,
   "metadata": {},
   "outputs": [],
   "source": [
    "# Define how much data to load (only use a subset for speed)\n",
    "num_train = 35000\n",
    "num_test = 1000\n",
    "batch_size = 10000\n",
    "\n",
    "# Training dataset & loader\n",
    "ds_train = tf.SubsetDataset(ECG_test, num_train)  #(train=True, transform=tf_ds)\n",
    "dl_train = torch.utils.data.DataLoader(ds_train,batch_size= batch_size,shuffle=False)\n",
    "\n",
    "# Test dataset & loader\n",
    "ds_test = tf.SubsetDataset(ECG_test, num_test, offset= num_train)\n",
    "dl_test = torch.utils.data.DataLoader(ds_test, batch_size)\n",
    "\n",
    "# Get all test data to predict in one go\n",
    "test_iter = iter(dl_test)\n",
    "x_test, y_test = test_iter.next()"
   ]
  },
  {
   "cell_type": "code",
   "execution_count": 13,
   "metadata": {},
   "outputs": [
    {
     "name": "stdout",
     "output_type": "stream",
     "text": [
      "Accuracy: 78.50%\n"
     ]
    }
   ],
   "source": [
    "knn_classifier = knn.KNNClassifier(k=10)\n",
    "knn_classifier.train(dl_train)\n",
    "y_pred = knn_classifier.predict(x_test)\n",
    "\n",
    "# Calculate accuracy\n",
    "accuracy = knn.accuracy(y_test, y_pred)\n",
    "print(f'Accuracy: {accuracy*100:.2f}%')"
   ]
  },
  {
   "cell_type": "markdown",
   "metadata": {},
   "source": [
    "## Digitized 12 Lead ECG classification"
   ]
  },
  {
   "cell_type": "markdown",
   "metadata": {},
   "source": [
    "Clean up the environment from the previous exmple to free the memory (if necessary):"
   ]
  },
  {
   "cell_type": "code",
   "execution_count": 55,
   "metadata": {},
   "outputs": [
    {
     "name": "stdin",
     "output_type": "stream",
     "text": [
      "Once deleted, variables cannot be recovered. Proceed (y/[n])?  y\n"
     ]
    }
   ],
   "source": [
    "%reset"
   ]
  },
  {
   "cell_type": "markdown",
   "metadata": {},
   "source": [
    "Imports and preperations, change root_dir here to the directory of the data pickles"
   ]
  },
  {
   "cell_type": "code",
   "execution_count": 1,
   "metadata": {},
   "outputs": [
    {
     "name": "stdout",
     "output_type": "stream",
     "text": [
      "Using device: cuda\n"
     ]
    }
   ],
   "source": [
    "import torch\n",
    "import models\n",
    "import transforms as tf\n",
    "import matplotlib.pyplot as plt\n",
    "from ECG_multi_lead_dataloader import *\n",
    "\n",
    "root_dir = r'C:\\Users\\noam\\Desktop\\vadimDB'+'\\\\'\n",
    "\n",
    "%load_ext autoreload\n",
    "%autoreload 2\n",
    "\n",
    "plt.rcParams.update({'font.size': 12})\n",
    "device = torch.device('cuda' if torch.cuda.is_available() else 'cpu')\n",
    "print('Using device:', device)"
   ]
  },
  {
   "cell_type": "code",
   "execution_count": 2,
   "metadata": {},
   "outputs": [
    {
     "name": "stdout",
     "output_type": "stream",
     "text": [
      "Loaded data with type of: <class 'list'>\n",
      "Loaded data with type of: <class 'list'>\n",
      "Loaded data with type of: <class 'list'>\n",
      "Loaded data with type of: <class 'list'>\n",
      "Loaded data with type of: <class 'list'>\n",
      "Loaded data with type of: <class 'list'>\n",
      "Loaded data with type of: <class 'list'>\n",
      "Loaded data with type of: <class 'list'>\n",
      "Loaded data with type of: <class 'list'>\n",
      "Loaded data with type of: <class 'list'>\n",
      "Loaded data with type of: <class 'list'>\n",
      "Uploaded data, size of (41830, 2)\n"
     ]
    }
   ],
   "source": [
    "ds = ECG_Multilead_Dataset(root_dir=root_dir)\n",
    "    \n",
    "# Define how much data to load (only use a subset for speed)\n",
    "num_train = 35000\n",
    "num_test = 1000\n",
    "batch_size = 128\n",
    "\n",
    "# Training dataset & loader\n",
    "ds_train = tf.SubsetDataset(ds, num_train)  #(train=True, transform=tf_ds)\n",
    "dl_train = torch.utils.data.DataLoader(ds_train,batch_size= batch_size,shuffle=False)\n",
    "\n",
    "# Test dataset & loader\n",
    "ds_test = tf.SubsetDataset(ds, num_test, offset= num_train)\n",
    "dl_test = torch.utils.data.DataLoader(ds_test, batch_size)"
   ]
  },
  {
   "cell_type": "code",
   "execution_count": 3,
   "metadata": {},
   "outputs": [
    {
     "name": "stdout",
     "output_type": "stream",
     "text": [
      "Long lead data of shape:  torch.Size([128, 5000])\n",
      "Short lead data of shape:  torch.Size([128, 12, 1250])\n",
      "Labels of shape:  torch.Size([128])\n"
     ]
    }
   ],
   "source": [
    "x, y = iter(dl_train).next()\n",
    "x1, x2 = x\n",
    "print('Long lead data of shape: ', x2.shape)\n",
    "print('Short lead data of shape: ', x1.shape)\n",
    "print('Labels of shape: ', y.shape)"
   ]
  },
  {
   "cell_type": "code",
   "execution_count": 17,
   "metadata": {},
   "outputs": [],
   "source": [
    "short_hidden_channels = [16, 32, 64, 128, 256, 512]\n",
    "long_hidden_channels  = [4, 8, 16, 32, 64, 128, 256, 512]\n",
    "short_kernel_lengths = [5]*6\n",
    "long_kernel_lengths = [5]*8\n",
    "fc_hidden_dims = [128]\n",
    "short_dropout = None\n",
    "long_dropout = None\n",
    "short_stride = 2\n",
    "long_stride = 2\n",
    "short_dilation = 1\n",
    "long_dilation = 1\n",
    "short_batch_norm = True\n",
    "long_batch_norm = True\n",
    "short_input_length = 1250\n",
    "long_input_length = 5000\n",
    "num_of_classes = 2"
   ]
  },
  {
   "cell_type": "code",
   "execution_count": 23,
   "metadata": {},
   "outputs": [],
   "source": [
    "model = models.Ecg12LeadNet(short_hidden_channels, long_hidden_channels,\n",
    "                 short_kernel_lengths, long_kernel_lengths,\n",
    "                 fc_hidden_dims,\n",
    "                 short_dropout, long_dropout,\n",
    "                 short_stride, long_stride,\n",
    "                 short_dilation, long_dilation,\n",
    "                 short_batch_norm, long_batch_norm,\n",
    "                 short_input_length, long_input_length,\n",
    "                 num_of_classes).to(device)"
   ]
  },
  {
   "cell_type": "code",
   "execution_count": 24,
   "metadata": {},
   "outputs": [
    {
     "name": "stdout",
     "output_type": "stream",
     "text": [
      "torch.Size([128, 2])\n"
     ]
    }
   ],
   "source": [
    "x_try = (x1.to(device, dtype=torch.float), x2.unsqueeze(1).to(device, dtype=torch.float))\n",
    "y_pred = model(x_try)\n",
    "print(y_pred.shape)"
   ]
  }
 ],
 "metadata": {
  "kernelspec": {
   "display_name": "Python 3",
   "language": "python",
   "name": "python3"
  },
  "language_info": {
   "codemirror_mode": {
    "name": "ipython",
    "version": 3
   },
   "file_extension": ".py",
   "mimetype": "text/x-python",
   "name": "python",
   "nbconvert_exporter": "python",
   "pygments_lexer": "ipython3",
   "version": "3.7.3"
  }
 },
 "nbformat": 4,
 "nbformat_minor": 2
}
