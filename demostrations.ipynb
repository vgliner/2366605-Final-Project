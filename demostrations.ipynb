{
 "cells": [
  {
   "cell_type": "markdown",
   "metadata": {},
   "source": [
    "# cs236605 - Final Project"
   ]
  },
  {
   "cell_type": "markdown",
   "metadata": {},
   "source": [
    "By:\n",
    "Vadim Grainer & Noam Keidar"
   ]
  },
  {
   "cell_type": "markdown",
   "metadata": {},
   "source": [
    "## KNN Demonstration "
   ]
  },
  {
   "cell_type": "code",
   "execution_count": 177,
   "metadata": {},
   "outputs": [],
   "source": [
    "import sklearn as sk\n",
    "import matplotlib.pyplot as plt\n",
    "import torchvision.transforms as tvtf\n",
    "from ECG_multi_lead_dataloader import *\n",
    "import transforms as tf\n",
    "import torchvision\n",
    "import torch\n",
    "import knn_classifier as knn\n",
    "import os"
   ]
  },
  {
   "cell_type": "code",
   "execution_count": 4,
   "metadata": {},
   "outputs": [],
   "source": [
    "# Define the transforms that should be applied to each ECG record before returning it\n",
    "tf_ds = tvtf.Compose([\n",
    "    tf.ECG_tuple_transform(-1) # Reshape to 1D Tensor\n",
    "])"
   ]
  },
  {
   "cell_type": "code",
   "execution_count": null,
   "metadata": {},
   "outputs": [],
   "source": [
    "root_dir = r'/home/noamkeidar/ML/db/'\n",
    "\n",
    "ECG_test = ECG_Multilead_Dataset(root_dir=root_dir, transform=tf_ds) # For KNN demo"
   ]
  },
  {
   "cell_type": "code",
   "execution_count": null,
   "metadata": {},
   "outputs": [],
   "source": [
    "# Define how much data to load (only use a subset for speed)\n",
    "num_train = 35000\n",
    "num_test = 1000\n",
    "batch_size = 10000\n",
    "\n",
    "# Training dataset & loader\n",
    "ds_train = tf.SubsetDataset(ECG_test, num_train)  #(train=True, transform=tf_ds)\n",
    "dl_train = torch.utils.data.DataLoader(ds_train, batch_size=batch_size, shuffle=False)\n",
    "\n",
    "# Test dataset & loader\n",
    "ds_test = tf.SubsetDataset(ECG_test, num_test, offset=num_train)\n",
    "dl_test = torch.utils.data.DataLoader(ds_test, batch_size)\n",
    "\n",
    "# Get all test data to predict in one go\n",
    "test_iter = iter(dl_test)\n",
    "x_test, y_test = test_iter.next()"
   ]
  },
  {
   "cell_type": "code",
   "execution_count": null,
   "metadata": {},
   "outputs": [],
   "source": [
    "knn_classifier = knn.KNNClassifier(k=10)\n",
    "knn_classifier.train(dl_train)\n",
    "y_pred = knn_classifier.predict(x_test)\n",
    "\n",
    "# Calculate accuracy\n",
    "accuracy = knn.accuracy(y_test, y_pred)\n",
    "print(f'Accuracy: {accuracy*100:.2f}%')"
   ]
  },
  {
   "cell_type": "markdown",
   "metadata": {},
   "source": [
    "## Digitized 12 Lead ECG classification"
   ]
  },
  {
   "cell_type": "markdown",
   "metadata": {},
   "source": [
    "This part is intended to be a banchmark for the prefoarmance of the two ECG image classification paradigms. We assume that our knowladge that the real information in the ECG images is contained only in the signal and not the background will allow easier convergence of the model and better performance."
   ]
  },
  {
   "cell_type": "markdown",
   "metadata": {},
   "source": [
    "Clean up the environment from the previous exmple to free the memory (if necessary):"
   ]
  },
  {
   "cell_type": "code",
   "execution_count": null,
   "metadata": {},
   "outputs": [],
   "source": [
    "%reset"
   ]
  },
  {
   "cell_type": "code",
   "execution_count": null,
   "metadata": {},
   "outputs": [],
   "source": [
    "import torch\n",
    "torch.cuda.empty_cache()"
   ]
  },
  {
   "cell_type": "markdown",
   "metadata": {},
   "source": [
    "### Imports and loadings"
   ]
  },
  {
   "cell_type": "markdown",
   "metadata": {},
   "source": [
    "Imports and preperations, change root_dir here to the directory of the data pickles"
   ]
  },
  {
   "cell_type": "code",
   "execution_count": 179,
   "metadata": {},
   "outputs": [
    {
     "name": "stdout",
     "output_type": "stream",
     "text": [
      "The autoreload extension is already loaded. To reload it, use:\n",
      "  %reload_ext autoreload\n",
      "Using device: cuda\n"
     ]
    }
   ],
   "source": [
    "import torch\n",
    "import models\n",
    "import transforms as tf\n",
    "import matplotlib.pyplot as plt\n",
    "from ECG_multi_lead_dataloader import *\n",
    "\n",
    "##### Change root direrctory here #####\n",
    "root_dir = r'/home/noamkeidar/ML/db/'\n",
    "\n",
    "%load_ext autoreload\n",
    "%autoreload 2\n",
    "\n",
    "plt.rcParams.update({'font.size': 12})\n",
    "device = torch.device('cuda' if torch.cuda.is_available() else 'cpu')\n",
    "print('Using device:', device)"
   ]
  },
  {
   "cell_type": "markdown",
   "metadata": {},
   "source": [
    "Load the database (might take some minutes)"
   ]
  },
  {
   "cell_type": "code",
   "execution_count": 180,
   "metadata": {},
   "outputs": [
    {
     "name": "stdout",
     "output_type": "stream",
     "text": [
      "Uploading new format\n"
     ]
    }
   ],
   "source": [
    "ds = ECG_Multilead_Dataset(root_dir=root_dir)"
   ]
  },
  {
   "cell_type": "markdown",
   "metadata": {},
   "source": [
    "Prepare the dataloaders"
   ]
  },
  {
   "cell_type": "code",
   "execution_count": 181,
   "metadata": {},
   "outputs": [],
   "source": [
    "# Define how much data to load (only use a subset for speed)\n",
    "\n",
    "# for real training:\n",
    "num_train = 35000\n",
    "# for small set overfit experiment: \n",
    "#num_train = 3500\n",
    "num_test = 5000\n",
    "batch_size = 512\n",
    "\n",
    "# Training dataset & loader\n",
    "ds_train = tf.SubsetDataset(ds, num_train)  #(train=True, transform=tf_ds)\n",
    "dl_train = torch.utils.data.DataLoader(ds_train,batch_size= batch_size,shuffle=True)\n",
    "\n",
    "# Test dataset & loader\n",
    "ds_test = tf.SubsetDataset(ds, num_test, offset= num_train)\n",
    "dl_test = torch.utils.data.DataLoader(ds_test, batch_size)"
   ]
  },
  {
   "cell_type": "markdown",
   "metadata": {},
   "source": [
    "Let's see what did we load:"
   ]
  },
  {
   "cell_type": "code",
   "execution_count": 182,
   "metadata": {},
   "outputs": [
    {
     "name": "stdout",
     "output_type": "stream",
     "text": [
      "Long lead data of shape:  torch.Size([512, 1, 5000])\n",
      "Short lead data of shape:  torch.Size([512, 12, 1250])\n",
      "Labels of shape:  torch.Size([512])\n"
     ]
    }
   ],
   "source": [
    "x, y = iter(dl_train).next()\n",
    "x1, x2 = x\n",
    "\n",
    "print('Long lead data of shape: ', x2.shape)\n",
    "print('Short lead data of shape: ', x1.shape)\n",
    "print('Labels of shape: ', y.shape)"
   ]
  },
  {
   "cell_type": "markdown",
   "metadata": {},
   "source": [
    "### Model creation"
   ]
  },
  {
   "cell_type": "markdown",
   "metadata": {},
   "source": [
    "Use this box to determine the archetecture of the digitized ECG classifing model. Note that the input data is tuples structured $(x_1,x_2)$, on which $x_1$ is a 12 on $N$ matrix containing digitized signals of short 12 lead ECG and $x_2$ is a 1 on $4\\cdot N$ matrix containing the long lead. Both inputs enter the model through 1d CNNs and combined to a single set of features before finally being cassified by a simple feedforward NN. "
   ]
  },
  {
   "cell_type": "code",
   "execution_count": 183,
   "metadata": {},
   "outputs": [],
   "source": [
    "### CNNs structure: \n",
    "\n",
    "# num of channels and kernel length in each layer of each branch, note that list lengths must correspond \n",
    "short_hidden_channels = [16, 32, 64, 128, 256, 512]\n",
    "long_hidden_channels  = [4, 8, 16, 32, 64, 128, 256, 512]\n",
    "short_kernel_lengths = [5]*6\n",
    "long_kernel_lengths = [5]*8\n",
    "\n",
    "# which tricks to use: dropout, stride, batch normalization and dilation \n",
    "short_dropout = 0.5\n",
    "long_dropout = 0.5\n",
    "short_stride = 2\n",
    "long_stride = 2\n",
    "short_dilation = 1\n",
    "long_dilation = 1\n",
    "short_batch_norm = True\n",
    "long_batch_norm = True\n",
    "\n",
    "# enter input length here\n",
    "short_input_length = 1250\n",
    "long_input_length = 5000\n",
    "\n",
    "### FC net structure:\n",
    "\n",
    "# num of hidden units in every FC layer\n",
    "fc_hidden_dims = [128]\n",
    "\n",
    "# num of output classess \n",
    "num_of_classes = 2"
   ]
  },
  {
   "cell_type": "markdown",
   "metadata": {},
   "source": [
    "build the model:"
   ]
  },
  {
   "cell_type": "code",
   "execution_count": 184,
   "metadata": {},
   "outputs": [
    {
     "name": "stdout",
     "output_type": "stream",
     "text": [
      "Ecg12LeadNet(\n",
      "  (short_cnn): ConvNet1d(\n",
      "    (cnn): Sequential(\n",
      "      (0): Conv1d(12, 16, kernel_size=(5,), stride=(2,))\n",
      "      (1): BatchNorm1d(16, eps=1e-05, momentum=0.1, affine=True, track_running_stats=True)\n",
      "      (2): Dropout(p=0.5)\n",
      "      (3): ReLU()\n",
      "      (4): Conv1d(16, 32, kernel_size=(5,), stride=(2,))\n",
      "      (5): BatchNorm1d(32, eps=1e-05, momentum=0.1, affine=True, track_running_stats=True)\n",
      "      (6): Dropout(p=0.5)\n",
      "      (7): ReLU()\n",
      "      (8): Conv1d(32, 64, kernel_size=(5,), stride=(2,))\n",
      "      (9): BatchNorm1d(64, eps=1e-05, momentum=0.1, affine=True, track_running_stats=True)\n",
      "      (10): Dropout(p=0.5)\n",
      "      (11): ReLU()\n",
      "      (12): Conv1d(64, 128, kernel_size=(5,), stride=(2,))\n",
      "      (13): BatchNorm1d(128, eps=1e-05, momentum=0.1, affine=True, track_running_stats=True)\n",
      "      (14): Dropout(p=0.5)\n",
      "      (15): ReLU()\n",
      "      (16): Conv1d(128, 256, kernel_size=(5,), stride=(2,))\n",
      "      (17): BatchNorm1d(256, eps=1e-05, momentum=0.1, affine=True, track_running_stats=True)\n",
      "      (18): Dropout(p=0.5)\n",
      "      (19): ReLU()\n",
      "      (20): Conv1d(256, 512, kernel_size=(5,), stride=(2,))\n",
      "      (21): BatchNorm1d(512, eps=1e-05, momentum=0.1, affine=True, track_running_stats=True)\n",
      "      (22): Dropout(p=0.5)\n",
      "      (23): ReLU()\n",
      "    )\n",
      "  )\n",
      "  (long_cnn): ConvNet1d(\n",
      "    (cnn): Sequential(\n",
      "      (0): Conv1d(1, 4, kernel_size=(5,), stride=(2,))\n",
      "      (1): BatchNorm1d(4, eps=1e-05, momentum=0.1, affine=True, track_running_stats=True)\n",
      "      (2): Dropout(p=0.5)\n",
      "      (3): ReLU()\n",
      "      (4): Conv1d(4, 8, kernel_size=(5,), stride=(2,))\n",
      "      (5): BatchNorm1d(8, eps=1e-05, momentum=0.1, affine=True, track_running_stats=True)\n",
      "      (6): Dropout(p=0.5)\n",
      "      (7): ReLU()\n",
      "      (8): Conv1d(8, 16, kernel_size=(5,), stride=(2,))\n",
      "      (9): BatchNorm1d(16, eps=1e-05, momentum=0.1, affine=True, track_running_stats=True)\n",
      "      (10): Dropout(p=0.5)\n",
      "      (11): ReLU()\n",
      "      (12): Conv1d(16, 32, kernel_size=(5,), stride=(2,))\n",
      "      (13): BatchNorm1d(32, eps=1e-05, momentum=0.1, affine=True, track_running_stats=True)\n",
      "      (14): Dropout(p=0.5)\n",
      "      (15): ReLU()\n",
      "      (16): Conv1d(32, 64, kernel_size=(5,), stride=(2,))\n",
      "      (17): BatchNorm1d(64, eps=1e-05, momentum=0.1, affine=True, track_running_stats=True)\n",
      "      (18): Dropout(p=0.5)\n",
      "      (19): ReLU()\n",
      "      (20): Conv1d(64, 128, kernel_size=(5,), stride=(2,))\n",
      "      (21): BatchNorm1d(128, eps=1e-05, momentum=0.1, affine=True, track_running_stats=True)\n",
      "      (22): Dropout(p=0.5)\n",
      "      (23): ReLU()\n",
      "      (24): Conv1d(128, 256, kernel_size=(5,), stride=(2,))\n",
      "      (25): BatchNorm1d(256, eps=1e-05, momentum=0.1, affine=True, track_running_stats=True)\n",
      "      (26): Dropout(p=0.5)\n",
      "      (27): ReLU()\n",
      "      (28): Conv1d(256, 512, kernel_size=(5,), stride=(2,))\n",
      "      (29): BatchNorm1d(512, eps=1e-05, momentum=0.1, affine=True, track_running_stats=True)\n",
      "      (30): Dropout(p=0.5)\n",
      "      (31): ReLU()\n",
      "    )\n",
      "  )\n",
      "  (fc): Sequential(\n",
      "    (0): Linear(in_features=16384, out_features=128, bias=True)\n",
      "    (1): ReLU()\n",
      "    (2): Linear(in_features=128, out_features=1, bias=True)\n",
      "  )\n",
      ")\n"
     ]
    }
   ],
   "source": [
    "model = models.Ecg12LeadNet(short_hidden_channels, long_hidden_channels,\n",
    "                 short_kernel_lengths, long_kernel_lengths,\n",
    "                 fc_hidden_dims,\n",
    "                 short_dropout, long_dropout,\n",
    "                 short_stride, long_stride,\n",
    "                 short_dilation, long_dilation,\n",
    "                 short_batch_norm, long_batch_norm,\n",
    "                 short_input_length, long_input_length,\n",
    "                 num_of_classes).to(device)\n",
    "\n",
    "print(model)"
   ]
  },
  {
   "cell_type": "markdown",
   "metadata": {},
   "source": [
    "Try the model on a single batch to make sure the dimentions fit:"
   ]
  },
  {
   "cell_type": "code",
   "execution_count": 185,
   "metadata": {},
   "outputs": [
    {
     "name": "stdout",
     "output_type": "stream",
     "text": [
      "Output batch size is: 512 , and number of class scores: 1 \n",
      "\n",
      "78.90625 % Accurecy... maybe we should consider training the model\n"
     ]
    }
   ],
   "source": [
    "x_try = (x1.to(device, dtype=torch.float), x2.to(device, dtype=torch.float))\n",
    "y_pred = model(x_try)\n",
    "print('Output batch size is:', y_pred.shape[0], ', and number of class scores:', y_pred.shape[1],'\\n')\n",
    "\n",
    "num_correct = torch.sum((y_pred > 0).flatten() == (y.to(device, dtype=torch.long)==1))\n",
    "print(100*num_correct.item()/len(y), '% Accurecy... maybe we should consider training the model')"
   ]
  },
  {
   "cell_type": "markdown",
   "metadata": {},
   "source": [
    "### Let the game begin - Training"
   ]
  },
  {
   "cell_type": "markdown",
   "metadata": {},
   "source": [
    "This training section is based on the course abstruct Trainer class from HW 3. We have implemented a custom class for our model inhereting from Trainer."
   ]
  },
  {
   "cell_type": "code",
   "execution_count": 188,
   "metadata": {},
   "outputs": [
    {
     "name": "stdout",
     "output_type": "stream",
     "text": [
      "*** Loading checkpoint file checkpoints/Ecg12LeadNet.pt\n",
      "--- EPOCH 1/1 ---\n",
      "train_batch (Avg. Loss 0.020, Accuracy 99.6): 100%|██████████| 69/69 [00:36<00:00,  2.29it/s]\n",
      "test_batch (Avg. Loss 0.046, Accuracy 98.7): 100%|██████████| 10/10 [00:02<00:00,  5.14it/s]\n",
      "*** Saved checkpoint checkpoints/Ecg12LeadNet.pt at epoch 1\n"
     ]
    }
   ],
   "source": [
    "import torch.nn as nn\n",
    "import torch.optim as optim\n",
    "from training import Ecg12LeadNetTrainerBinary\n",
    "\n",
    "torch.manual_seed(42)\n",
    "\n",
    "lr = 0.00001\n",
    "num_epochs = 1\n",
    "\n",
    "loss_fn = nn.BCEWithLogitsLoss()\n",
    "optimizer = optim.Adam(model.parameters(), lr=lr)\n",
    "trainer = Ecg12LeadNetTrainerBinary(model, loss_fn, optimizer, device)\n",
    "\n",
    "fitResult = trainer.fit(dl_train, dl_test, num_epochs, checkpoints=r'checkpoints/Ecg12LeadNet',\n",
    "                        early_stopping=10, print_every=1)"
   ]
  },
  {
   "cell_type": "code",
   "execution_count": 189,
   "metadata": {},
   "outputs": [
    {
     "name": "stdout",
     "output_type": "stream",
     "text": [
      "test_batch (Avg. Loss 0.046, Accuracy 98.7): 100%|██████████| 10/10 [00:01<00:00,  6.41it/s]\n",
      "Test accurecy is:  98.68 %\n"
     ]
    }
   ],
   "source": [
    "test_result = trainer.test_epoch(dl_test, verbose=True)\n",
    "print('Test accurecy is: ', test_result[1], '%')"
   ]
  },
  {
   "cell_type": "markdown",
   "metadata": {},
   "source": [
    "## ECG image classification"
   ]
  },
  {
   "cell_type": "markdown",
   "metadata": {},
   "source": [
    "some intro... ############################"
   ]
  },
  {
   "cell_type": "markdown",
   "metadata": {},
   "source": [
    "### KNN example"
   ]
  },
  {
   "cell_type": "code",
   "execution_count": null,
   "metadata": {},
   "outputs": [],
   "source": [
    "import torchvision.transforms as tvtf\n",
    "from ECG_rendered_multilead_dataloader import *\n",
    "import transforms as tf\n",
    "import torch\n",
    "import knn_classifier as knn\n",
    "\n",
    "# Define the transforms that should be applied to each ECG record before returning it\n",
    "tf_ds = tvtf.Compose([\n",
    "    tf.ECG_rendering_transform(-1) # Reshape to 1D Tensor\n",
    "])\n",
    "\n",
    "root_dir = r'C:\\Users\\noam\\Desktop\\vadimDBUnified'+'\\\\'\n",
    "ECG_test = ECG_Rendered_Multilead_Dataset(root_dir=root_dir, transform=tf_ds, partial_upload=False)\n",
    "K = ECG_test[10]\n",
    "\n",
    "print('Managed to upload the sample # 10')"
   ]
  },
  {
   "cell_type": "code",
   "execution_count": null,
   "metadata": {},
   "outputs": [],
   "source": [
    "num_train = 400\n",
    "num_test = 100\n",
    "batch_size = 100\n",
    "\n",
    "# Training dataset & loader\n",
    "ds_train = tf.SubsetDataset(ECG_test, num_train)  #(train=True, transform=tf_ds)\n",
    "dl_train = torch.utils.data.DataLoader(ds_train,batch_size= batch_size,shuffle=True)\n",
    "\n",
    "# Test dataset & loader\n",
    "ds_test = tf.SubsetDataset(ECG_test, num_test, offset=num_train)\n",
    "dl_test = torch.utils.data.DataLoader(ds_test, batch_size=batch_size)\n"
   ]
  },
  {
   "cell_type": "code",
   "execution_count": null,
   "metadata": {},
   "outputs": [],
   "source": [
    "# Get all test data to predict in one go\n",
    "test_iter = iter(dl_test)\n",
    "x_test, y_test = test_iter.next()\n",
    "\n",
    "train_iter = iter(dl_train)\n",
    "x_train, y_train = train_iter.next()"
   ]
  },
  {
   "cell_type": "code",
   "execution_count": null,
   "metadata": {},
   "outputs": [],
   "source": [
    "# Test kNN Classifier\n",
    "knn_classifier = knn.KNNClassifier(k=10)\n",
    "knn_classifier.train(dl_train)\n",
    "y_pred = knn_classifier.predict(x_test)\n",
    "\n",
    "# Calculate accuracy\n",
    "accuracy = knn.accuracy(y_test, y_pred)\n",
    "print(f'Accuracy: {accuracy*100:.2f}%')\n",
    "print('However, note that due to small test set, this result might be attributed to data imblance')"
   ]
  },
  {
   "cell_type": "code",
   "execution_count": null,
   "metadata": {},
   "outputs": [],
   "source": [
    "print('let us see how the train set tagging looks like:')\n",
    "print(y_test.tolist())"
   ]
  },
  {
   "cell_type": "markdown",
   "metadata": {},
   "source": [
    "### Imports and loadings"
   ]
  },
  {
   "cell_type": "markdown",
   "metadata": {},
   "source": [
    "Imports and preperations, change root_dir here to the directory of the data pickles"
   ]
  },
  {
   "cell_type": "code",
   "execution_count": 190,
   "metadata": {},
   "outputs": [
    {
     "name": "stdout",
     "output_type": "stream",
     "text": [
      "The autoreload extension is already loaded. To reload it, use:\n",
      "  %reload_ext autoreload\n",
      "Using device: cuda\n"
     ]
    }
   ],
   "source": [
    "import torch\n",
    "import models\n",
    "import transforms as tf\n",
    "import matplotlib.pyplot as plt\n",
    "from ECG_rendered_multilead_dataloader import *\n",
    "\n",
    "##### Change root direrctory here #####\n",
    "root_dir = r'/home/noamkeidar/ML/db/'\n",
    "\n",
    "%load_ext autoreload\n",
    "%autoreload 2\n",
    "\n",
    "plt.rcParams.update({'font.size': 12})\n",
    "device = torch.device('cuda' if torch.cuda.is_available() else 'cpu')\n",
    "print('Using device:', device)"
   ]
  },
  {
   "cell_type": "markdown",
   "metadata": {},
   "source": [
    "Load the database (might take some minutes)"
   ]
  },
  {
   "cell_type": "code",
   "execution_count": 191,
   "metadata": {},
   "outputs": [],
   "source": [
    "ds = ECG_Rendered_Multilead_Dataset(root_dir=root_dir)"
   ]
  },
  {
   "cell_type": "markdown",
   "metadata": {},
   "source": [
    "Prepare the dataloaders"
   ]
  },
  {
   "cell_type": "code",
   "execution_count": 192,
   "metadata": {},
   "outputs": [],
   "source": [
    "# Define how much data to load (only use a subset for speed)\n",
    "\n",
    "# for real training:\n",
    "num_train = 35000\n",
    "# for small set overfit experiment: \n",
    "#num_train = 1025\n",
    "num_val = 1000\n",
    "num_test = 5000\n",
    "batch_size = 42\n",
    "\n",
    "# Training dataset & loader\n",
    "ds_train = tf.SubsetDataset(ds, num_train)  #(train=True, transform=tf_ds)\n",
    "dl_train = torch.utils.data.DataLoader(ds_train, batch_size, shuffle=True, num_workers=2, pin_memory=True)\n",
    "\n",
    "# Validation dataset & loader\n",
    "ds_val = tf.SubsetDataset(ds, num_val, offset=num_train)\n",
    "dl_val = torch.utils.data.DataLoader(ds_val, batch_size, num_workers=2, pin_memory=True)\n",
    "\n",
    "# Test dataset & loader\n",
    "ds_test = tf.SubsetDataset(ds, num_test, offset=num_train + num_val)\n",
    "dl_test = torch.utils.data.DataLoader(ds_test, batch_size, num_workers=2, pin_memory=True)"
   ]
  },
  {
   "cell_type": "markdown",
   "metadata": {},
   "source": [
    "Let's see what did we load:"
   ]
  },
  {
   "cell_type": "code",
   "execution_count": 193,
   "metadata": {},
   "outputs": [
    {
     "name": "stdout",
     "output_type": "stream",
     "text": [
      "Images of shape:  torch.Size([42, 675, 1450, 3])\n",
      "Labels of shape:  torch.Size([42])\n",
      "Size of a batch in the memory is: ~ 117 MB\n"
     ]
    }
   ],
   "source": [
    "x, y = iter(dl_train).next()\n",
    "\n",
    "in_h = x.shape[1]\n",
    "in_w = x.shape[2]\n",
    "in_channels = x.shape[3]\n",
    "batch_memory = x.element_size() * x.nelement() // 1024**2\n",
    "\n",
    "print('Images of shape: ', x.shape)\n",
    "print('Labels of shape: ', y.shape)\n",
    "print('Size of a batch in the memory is: ~', batch_memory,'MB' )\n",
    "\n",
    "x = x.transpose(1,2).transpose(1,3)"
   ]
  },
  {
   "cell_type": "markdown",
   "metadata": {},
   "source": [
    "### Model creation"
   ]
  },
  {
   "cell_type": "markdown",
   "metadata": {},
   "source": [
    "Use this box to determine the archetecture of the reandered ECG classifing model. Note that the input data is comprezed of big RGB images, so memory is a major consideration. The input image is fed into a 2d CNN to yield a set of features before finally being cassified by a simple feedforward NN. "
   ]
  },
  {
   "cell_type": "code",
   "execution_count": 194,
   "metadata": {},
   "outputs": [],
   "source": [
    "### CNNs structure: \n",
    "\n",
    "# num of channels and kernel length in each layer, note that list lengths must correspond \n",
    "hidden_channels = [8, 16, 32, 64, 128, 256, 512]\n",
    "kernel_sizes = [5] * 7\n",
    "\n",
    "# which tricks to use: dropout, stride, batch normalization and dilation \n",
    "dropout = 0.2\n",
    "stride = 2\n",
    "dilation = 1\n",
    "batch_norm = True\n",
    "\n",
    "### FC net structure:\n",
    "\n",
    "# num of hidden units in every FC layer\n",
    "fc_hidden_dims = [128]\n",
    "\n",
    "# num of output classess \n",
    "num_of_classes = 2"
   ]
  },
  {
   "cell_type": "markdown",
   "metadata": {},
   "source": [
    "build the model:"
   ]
  },
  {
   "cell_type": "code",
   "execution_count": 195,
   "metadata": {},
   "outputs": [
    {
     "name": "stdout",
     "output_type": "stream",
     "text": [
      "Ecg12ImageNet(\n",
      "  (cnn): ConvNet2d(\n",
      "    (cnn): Sequential(\n",
      "      (0): Conv2d(3, 8, kernel_size=(5, 5), stride=(2, 2))\n",
      "      (1): BatchNorm2d(8, eps=1e-05, momentum=0.1, affine=True, track_running_stats=True)\n",
      "      (2): Dropout(p=0.2)\n",
      "      (3): ReLU()\n",
      "      (4): Conv2d(8, 16, kernel_size=(5, 5), stride=(2, 2))\n",
      "      (5): BatchNorm2d(16, eps=1e-05, momentum=0.1, affine=True, track_running_stats=True)\n",
      "      (6): Dropout(p=0.2)\n",
      "      (7): ReLU()\n",
      "      (8): Conv2d(16, 32, kernel_size=(5, 5), stride=(2, 2))\n",
      "      (9): BatchNorm2d(32, eps=1e-05, momentum=0.1, affine=True, track_running_stats=True)\n",
      "      (10): Dropout(p=0.2)\n",
      "      (11): ReLU()\n",
      "      (12): Conv2d(32, 64, kernel_size=(5, 5), stride=(2, 2))\n",
      "      (13): BatchNorm2d(64, eps=1e-05, momentum=0.1, affine=True, track_running_stats=True)\n",
      "      (14): Dropout(p=0.2)\n",
      "      (15): ReLU()\n",
      "      (16): Conv2d(64, 128, kernel_size=(5, 5), stride=(2, 2))\n",
      "      (17): BatchNorm2d(128, eps=1e-05, momentum=0.1, affine=True, track_running_stats=True)\n",
      "      (18): Dropout(p=0.2)\n",
      "      (19): ReLU()\n",
      "      (20): Conv2d(128, 256, kernel_size=(5, 5), stride=(2, 2))\n",
      "      (21): BatchNorm2d(256, eps=1e-05, momentum=0.1, affine=True, track_running_stats=True)\n",
      "      (22): Dropout(p=0.2)\n",
      "      (23): ReLU()\n",
      "      (24): Conv2d(256, 512, kernel_size=(5, 5), stride=(2, 2))\n",
      "      (25): BatchNorm2d(512, eps=1e-05, momentum=0.1, affine=True, track_running_stats=True)\n",
      "      (26): Dropout(p=0.2)\n",
      "      (27): ReLU()\n",
      "    )\n",
      "  )\n",
      "  (fc): Sequential(\n",
      "    (0): Linear(in_features=8192, out_features=128, bias=True)\n",
      "    (1): ReLU()\n",
      "    (2): Linear(in_features=128, out_features=1, bias=True)\n",
      "  )\n",
      ")\n"
     ]
    }
   ],
   "source": [
    "model = models.Ecg12ImageNet(in_channels, hidden_channels, kernel_sizes, in_h, in_w, \n",
    "                             fc_hidden_dims, dropout=dropout, stride=stride,\n",
    "                             dilation=dilation, batch_norm=batch_norm, num_of_classes=2).to(device)\n",
    "\n",
    "print(model)"
   ]
  },
  {
   "cell_type": "markdown",
   "metadata": {},
   "source": [
    "Try the model on a single batch to make sure the dimentions fit:"
   ]
  },
  {
   "cell_type": "code",
   "execution_count": 196,
   "metadata": {},
   "outputs": [
    {
     "name": "stdout",
     "output_type": "stream",
     "text": [
      "Output batch size is: 42 , and number of class scores: 1 \n",
      "\n",
      "40.476190476190474 % Accurecy... maybe we should consider training the model\n"
     ]
    }
   ],
   "source": [
    "x_try = x.to(device, dtype=torch.float)\n",
    "y_pred = model(x_try)\n",
    "print('Output batch size is:', y_pred.shape[0], ', and number of class scores:', y_pred.shape[1],'\\n')\n",
    "\n",
    "num_correct = torch.sum((y_pred > 0).flatten() == (y.to(device, dtype=torch.long)==1))\n",
    "print(100*num_correct.item()/len(y), '% Accurecy... maybe we should consider training the model')\n",
    "\n",
    "del x, y, x_try, y_pred"
   ]
  },
  {
   "cell_type": "markdown",
   "metadata": {},
   "source": [
    "### Let the game begin - Training"
   ]
  },
  {
   "cell_type": "markdown",
   "metadata": {},
   "source": [
    "This training section is based on the course abstruct Trainer class from HW 3. We have implemented a custom class for our model inhereting from Trainer."
   ]
  },
  {
   "cell_type": "code",
   "execution_count": 197,
   "metadata": {},
   "outputs": [
    {
     "name": "stdout",
     "output_type": "stream",
     "text": [
      "*** Loading checkpoint file checkpoints/Ecg12LeadImageNetWithDropout02.pt\n",
      "--- EPOCH 1/1 ---\n",
      "train_batch (Avg. Loss 0.018, Accuracy 99.5): 100%|██████████| 834/834 [25:45<00:00,  1.56s/it]\n",
      "test_batch (Avg. Loss 0.104, Accuracy 97.9): 100%|██████████| 24/24 [00:36<00:00,  1.51s/it]\n"
     ]
    }
   ],
   "source": [
    "import torch.nn as nn\n",
    "import torch.optim as optim\n",
    "from training import Ecg12LeadImageNetTrainerBinary\n",
    "\n",
    "torch.manual_seed(42)\n",
    "\n",
    "lr = 0.00001\n",
    "num_epochs = 1\n",
    "\n",
    "loss_fn = nn.BCEWithLogitsLoss()\n",
    "optimizer = optim.Adam(model.parameters(), lr=lr)\n",
    "trainer = Ecg12LeadImageNetTrainerBinary(model, loss_fn, optimizer, device)\n",
    "\n",
    "fitResult = trainer.fit(dl_train, dl_val, num_epochs, checkpoints=r'checkpoints/Ecg12LeadImageNetWithDropout02',\n",
    "                        early_stopping=5, print_every=1)\n",
    "\n",
    "null_dev = '''\n",
    "lr = 0.001\n",
    "num_epochs = 10\n",
    "\n",
    "loss_fn = nn.BCEWithLogitsLoss()\n",
    "optimizer = optim.Adam(model.parameters(), lr=lr)\n",
    "trainer = Ecg12LeadImageNetTrainerBinary(model, loss_fn, optimizer, device)\n",
    "\n",
    "fitResult1 = trainer.fit(dl_train, dl_val, num_epochs, checkpoints=r'checkpoints/Ecg12LeadImageNetWithDropout02',\n",
    "                        early_stopping=5, print_every=1)\n",
    "'''\n",
    "del null_dev"
   ]
  },
  {
   "cell_type": "code",
   "execution_count": 25,
   "metadata": {},
   "outputs": [
    {
     "name": "stdout",
     "output_type": "stream",
     "text": [
      "test_batch (Avg. Loss 0.250, Accuracy 96.8): 100%|██████████| 120/120 [03:09<00:00,  1.58s/it]\n",
      "Test accurecy is:  96.82 %\n"
     ]
    }
   ],
   "source": [
    "test_result = trainer.test_epoch(dl_test, verbose=True)\n",
    "print('Test accurecy is: ', test_result[1], '%')"
   ]
  },
  {
   "cell_type": "code",
   "execution_count": 28,
   "metadata": {},
   "outputs": [
    {
     "data": {
      "text/plain": [
       "[<matplotlib.lines.Line2D at 0x7f53ea0730b8>]"
      ]
     },
     "execution_count": 28,
     "metadata": {},
     "output_type": "execute_result"
    },
    {
     "data": {
      "image/png": "[encoded data removed]",
      "text/plain": [
       "<Figure size 432x288 with 1 Axes>"
      ]
     },
     "metadata": {
      "needs_background": "light"
     },
     "output_type": "display_data"
    }
   ],
   "source": [
    "import matplotlib.pyplot as plt\n",
    "\n",
    "ax = range(8340)\n",
    "plt.plot(fitResult.test_loss)#, ax , fitResult1.test_loss)"
   ]
  },
  {
   "cell_type": "code",
   "execution_count": 32,
   "metadata": {},
   "outputs": [],
   "source": [
    "fitResult_old = fitResult"
   ]
  },
  {
   "cell_type": "markdown",
   "metadata": {},
   "source": [
    "## Image to digitized signal"
   ]
  },
  {
   "cell_type": "markdown",
   "metadata": {},
   "source": [
    "In this section we train models to extruct the digitized signal from a rendered image containing it.  "
   ]
  },
  {
   "cell_type": "markdown",
   "metadata": {},
   "source": [
    "### Imports and data loding"
   ]
  },
  {
   "cell_type": "code",
   "execution_count": 1,
   "metadata": {},
   "outputs": [
    {
     "name": "stdout",
     "output_type": "stream",
     "text": [
      "Using device: cuda\n"
     ]
    }
   ],
   "source": [
    "import torch\n",
    "from models import Ecg12ImageToSignalNet\n",
    "import transforms as tf\n",
    "from ECG_rendered_to_matrix_DB_dataloader import *\n",
    "\n",
    "root_dir = r'/home/noamkeidar/ML/db/'\n",
    "\n",
    "%load_ext autoreload\n",
    "%autoreload 2\n",
    "\n",
    "plt.rcParams.update({'font.size': 12})\n",
    "device = torch.device('cuda' if torch.cuda.is_available() else 'cpu')\n",
    "print('Using device:', device)"
   ]
  },
  {
   "cell_type": "code",
   "execution_count": 2,
   "metadata": {},
   "outputs": [],
   "source": [
    "ds = ECG_Rendered_to_matrix_Dataset(root_dir=root_dir)"
   ]
  },
  {
   "cell_type": "code",
   "execution_count": 3,
   "metadata": {},
   "outputs": [],
   "source": [
    "num_train = 2 #35000\n",
    "# for small set overfit experiment: \n",
    "#num_train = 1025\n",
    "num_val = 1 # 1000\n",
    "num_test = 2 #5000\n",
    "batch_size = 1 # 16\n",
    "\n",
    "# Training dataset & loader\n",
    "ds_train = tf.SubsetDataset(ds, num_train)  #(train=True, transform=tf_ds)\n",
    "dl_train = torch.utils.data.DataLoader(ds_train, batch_size, shuffle=True, num_workers=2, pin_memory=True)\n",
    "\n",
    "# Validation dataset & loader\n",
    "ds_val = tf.SubsetDataset(ds, num_val, offset=num_train)\n",
    "dl_val = torch.utils.data.DataLoader(ds_val, batch_size, num_workers=2, pin_memory=True)\n",
    "\n",
    "# Test dataset & loader\n",
    "ds_test = tf.SubsetDataset(ds, num_test, offset=num_train + num_val)\n",
    "dl_test = torch.utils.data.DataLoader(ds_test, batch_size, num_workers=2, pin_memory=True)"
   ]
  },
  {
   "cell_type": "code",
   "execution_count": 4,
   "metadata": {},
   "outputs": [
    {
     "name": "stdout",
     "output_type": "stream",
     "text": [
      "Time taken 2.6414992809295654\n"
     ]
    }
   ],
   "source": [
    "import time\n",
    "\n",
    "start = time.time()\n",
    "x, y = iter(dl_train).next()\n",
    "end = time.time()\n",
    "print(f'Time taken {end - start}')"
   ]
  },
  {
   "cell_type": "code",
   "execution_count": 5,
   "metadata": {},
   "outputs": [
    {
     "name": "stdout",
     "output_type": "stream",
     "text": [
      "Images of shape:  torch.Size([1, 675, 1450, 3])\n",
      "Short leads of shape:  torch.Size([1, 12, 1250])\n",
      "Long leads of shape:  torch.Size([1, 1, 5000])\n",
      "Size of an input batch in the memory is: ~ 2 MB\n"
     ]
    }
   ],
   "source": [
    "batch_memory = x.element_size() * x.nelement() // 1024**2\n",
    "\n",
    "print('Images of shape: ', x.shape)\n",
    "print('Short leads of shape: ', y[0].size())\n",
    "print('Long leads of shape: ', y[1].size())\n",
    "print('Size of an input batch in the memory is: ~', batch_memory,'MB' )"
   ]
  },
  {
   "cell_type": "markdown",
   "metadata": {},
   "source": [
    "### Model creation"
   ]
  },
  {
   "cell_type": "code",
   "execution_count": 28,
   "metadata": {},
   "outputs": [],
   "source": [
    "in_h = x.shape[1]\n",
    "in_w = x.shape[2]\n",
    "in_channels = x.shape[3]\n",
    "conv_hidden_channels = [8, 16, 32, 64, 128, 256]\n",
    "conv_kernel_sizes = [5]*6\n",
    "\n",
    "deconv_in_channels = 1024\n",
    "deconv_hidden_channels_short = [512, 256, 128, 64, 32, 16]\n",
    "deconv_kernel_lengths_short = [5]*6\n",
    "deconv_hidden_channels_long = [512, 256, 128, 64, 32, 16, 8, 4]\n",
    "deconv_kernel_lengths_long = [5]*8\n",
    "\n",
    "conv_dropout = None\n",
    "conv_stride = 2\n",
    "conv_dilation = 1\n",
    "conv_batch_norm = True\n",
    "\n",
    "deconv_dropout_short = None\n",
    "deconv_stride_short = 2\n",
    "deconv_dilation_short = 1\n",
    "deconv_batch_norm_short = True\n",
    "deconv_out_kernel_short = 5\n",
    "deconv_dropout_long = None\n",
    "deconv_stride_long = 2\n",
    "deconv_dilation_long = 1\n",
    "deconv_batch_norm_long = True\n",
    "deconv_out_kernel_long = 5\n",
    "\n",
    "fc_hidden_dims=()\n",
    "\n",
    "l_out_long = 5000\n",
    "l_out_short = 1250\n",
    "short_leads = 12\n",
    "long_leads = 1"
   ]
  },
  {
   "cell_type": "code",
   "execution_count": 29,
   "metadata": {},
   "outputs": [
    {
     "name": "stdout",
     "output_type": "stream",
     "text": [
      "Ecg12ImageToSignalNet(\n",
      "  (cnn2d): Ecg12ImageNet(\n",
      "    (cnn): ConvNet2d(\n",
      "      (cnn): Sequential(\n",
      "        (0): Conv2d(3, 8, kernel_size=(5, 5), stride=(2, 2))\n",
      "        (1): BatchNorm2d(8, eps=1e-05, momentum=0.1, affine=True, track_running_stats=True)\n",
      "        (2): ReLU()\n",
      "        (3): Conv2d(8, 16, kernel_size=(5, 5), stride=(2, 2))\n",
      "        (4): BatchNorm2d(16, eps=1e-05, momentum=0.1, affine=True, track_running_stats=True)\n",
      "        (5): ReLU()\n",
      "        (6): Conv2d(16, 32, kernel_size=(5, 5), stride=(2, 2))\n",
      "        (7): BatchNorm2d(32, eps=1e-05, momentum=0.1, affine=True, track_running_stats=True)\n",
      "        (8): ReLU()\n",
      "        (9): Conv2d(32, 64, kernel_size=(5, 5), stride=(2, 2))\n",
      "        (10): BatchNorm2d(64, eps=1e-05, momentum=0.1, affine=True, track_running_stats=True)\n",
      "        (11): ReLU()\n",
      "        (12): Conv2d(64, 128, kernel_size=(5, 5), stride=(2, 2))\n",
      "        (13): BatchNorm2d(128, eps=1e-05, momentum=0.1, affine=True, track_running_stats=True)\n",
      "        (14): ReLU()\n",
      "        (15): Conv2d(128, 256, kernel_size=(5, 5), stride=(2, 2))\n",
      "        (16): BatchNorm2d(256, eps=1e-05, momentum=0.1, affine=True, track_running_stats=True)\n",
      "        (17): ReLU()\n",
      "      )\n",
      "    )\n",
      "    (fc): Sequential(\n",
      "      (0): Linear(in_features=34048, out_features=12288, bias=True)\n",
      "    )\n",
      "  )\n",
      "  (ReLu): ReLU()\n",
      "  (dcnn1d_short): DeConvNet1d(\n",
      "    (dcnn): Sequential(\n",
      "      (0): ConvTranspose1d(1024, 512, kernel_size=(5,), stride=(2,), output_padding=(1,))\n",
      "      (1): BatchNorm1d(512, eps=1e-05, momentum=0.1, affine=True, track_running_stats=True)\n",
      "      (2): LeakyReLU(negative_slope=0.2)\n",
      "      (3): ConvTranspose1d(512, 256, kernel_size=(5,), stride=(2,), output_padding=(1,))\n",
      "      (4): BatchNorm1d(256, eps=1e-05, momentum=0.1, affine=True, track_running_stats=True)\n",
      "      (5): LeakyReLU(negative_slope=0.2)\n",
      "      (6): ConvTranspose1d(256, 128, kernel_size=(5,), stride=(2,), output_padding=(1,))\n",
      "      (7): BatchNorm1d(128, eps=1e-05, momentum=0.1, affine=True, track_running_stats=True)\n",
      "      (8): LeakyReLU(negative_slope=0.2)\n",
      "      (9): ConvTranspose1d(128, 64, kernel_size=(5,), stride=(2,), output_padding=(1,))\n",
      "      (10): BatchNorm1d(64, eps=1e-05, momentum=0.1, affine=True, track_running_stats=True)\n",
      "      (11): LeakyReLU(negative_slope=0.2)\n",
      "      (12): ConvTranspose1d(64, 32, kernel_size=(5,), stride=(2,), output_padding=(1,))\n",
      "      (13): BatchNorm1d(32, eps=1e-05, momentum=0.1, affine=True, track_running_stats=True)\n",
      "      (14): LeakyReLU(negative_slope=0.2)\n",
      "      (15): ConvTranspose1d(32, 16, kernel_size=(5,), stride=(2,), output_padding=(1,))\n",
      "      (16): BatchNorm1d(16, eps=1e-05, momentum=0.1, affine=True, track_running_stats=True)\n",
      "      (17): LeakyReLU(negative_slope=0.2)\n",
      "      (18): ConvTranspose1d(16, 12, kernel_size=(5,), stride=(2,), padding=(1,))\n",
      "    )\n",
      "  )\n",
      "  (dcnn1d_long): DeConvNet1d(\n",
      "    (dcnn): Sequential(\n",
      "      (0): ConvTranspose1d(1024, 512, kernel_size=(5,), stride=(2,), output_padding=(1,))\n",
      "      (1): BatchNorm1d(512, eps=1e-05, momentum=0.1, affine=True, track_running_stats=True)\n",
      "      (2): LeakyReLU(negative_slope=0.2)\n",
      "      (3): ConvTranspose1d(512, 256, kernel_size=(5,), stride=(2,), output_padding=(1,))\n",
      "      (4): BatchNorm1d(256, eps=1e-05, momentum=0.1, affine=True, track_running_stats=True)\n",
      "      (5): LeakyReLU(negative_slope=0.2)\n",
      "      (6): ConvTranspose1d(256, 128, kernel_size=(5,), stride=(2,), output_padding=(1,))\n",
      "      (7): BatchNorm1d(128, eps=1e-05, momentum=0.1, affine=True, track_running_stats=True)\n",
      "      (8): LeakyReLU(negative_slope=0.2)\n",
      "      (9): ConvTranspose1d(128, 64, kernel_size=(5,), stride=(2,), output_padding=(1,))\n",
      "      (10): BatchNorm1d(64, eps=1e-05, momentum=0.1, affine=True, track_running_stats=True)\n",
      "      (11): LeakyReLU(negative_slope=0.2)\n",
      "      (12): ConvTranspose1d(64, 32, kernel_size=(5,), stride=(2,), output_padding=(1,))\n",
      "      (13): BatchNorm1d(32, eps=1e-05, momentum=0.1, affine=True, track_running_stats=True)\n",
      "      (14): LeakyReLU(negative_slope=0.2)\n",
      "      (15): ConvTranspose1d(32, 16, kernel_size=(5,), stride=(2,), output_padding=(1,))\n",
      "      (16): BatchNorm1d(16, eps=1e-05, momentum=0.1, affine=True, track_running_stats=True)\n",
      "      (17): LeakyReLU(negative_slope=0.2)\n",
      "      (18): ConvTranspose1d(16, 8, kernel_size=(5,), stride=(2,), output_padding=(1,))\n",
      "      (19): BatchNorm1d(8, eps=1e-05, momentum=0.1, affine=True, track_running_stats=True)\n",
      "      (20): LeakyReLU(negative_slope=0.2)\n",
      "      (21): ConvTranspose1d(8, 4, kernel_size=(5,), stride=(2,), output_padding=(1,))\n",
      "      (22): BatchNorm1d(4, eps=1e-05, momentum=0.1, affine=True, track_running_stats=True)\n",
      "      (23): LeakyReLU(negative_slope=0.2)\n",
      "      (24): ConvTranspose1d(4, 1, kernel_size=(5,), stride=(2,), padding=(1,))\n",
      "    )\n",
      "  )\n",
      ")\n"
     ]
    }
   ],
   "source": [
    "model = Ecg12ImageToSignalNet(in_channels, deconv_in_channels, in_h, in_w, conv_hidden_channels, conv_kernel_sizes,\n",
    "                 deconv_hidden_channels_short, deconv_kernel_lengths_short,\n",
    "                 deconv_hidden_channels_long, deconv_kernel_lengths_long,\n",
    "                 conv_dropout, conv_stride, conv_dilation, conv_batch_norm,\n",
    "                 deconv_dropout_short, deconv_stride_short, deconv_dilation_short,\n",
    "                 deconv_batch_norm_short, deconv_out_kernel_short, deconv_dropout_long,\n",
    "                 deconv_stride_long, deconv_dilation_long,\n",
    "                 deconv_batch_norm_long, deconv_out_kernel_long, \n",
    "                 fc_hidden_dims, l_out_long, l_out_short, short_leads, long_leads).to(device)\n",
    "\n",
    "print(model)"
   ]
  },
  {
   "cell_type": "code",
   "execution_count": 8,
   "metadata": {},
   "outputs": [
    {
     "name": "stdout",
     "output_type": "stream",
     "text": [
      "NewNet(\n",
      "  (cnn2d): Ecg12ImageNet(\n",
      "    (cnn): ConvNet2d(\n",
      "      (cnn): Sequential(\n",
      "        (0): Conv2d(3, 8, kernel_size=(3, 3), stride=(2, 2))\n",
      "        (1): BatchNorm2d(8, eps=1e-05, momentum=0.1, affine=True, track_running_stats=True)\n",
      "        (2): ReLU()\n",
      "        (3): Conv2d(8, 16, kernel_size=(5, 5), stride=(2, 2))\n",
      "        (4): BatchNorm2d(16, eps=1e-05, momentum=0.1, affine=True, track_running_stats=True)\n",
      "        (5): ReLU()\n",
      "        (6): Conv2d(16, 32, kernel_size=(5, 5), stride=(2, 2))\n",
      "        (7): BatchNorm2d(32, eps=1e-05, momentum=0.1, affine=True, track_running_stats=True)\n",
      "        (8): ReLU()\n",
      "        (9): Conv2d(32, 64, kernel_size=(5, 5), stride=(2, 2))\n",
      "        (10): BatchNorm2d(64, eps=1e-05, momentum=0.1, affine=True, track_running_stats=True)\n",
      "        (11): ReLU()\n",
      "        (12): Conv2d(64, 128, kernel_size=(5, 5), stride=(2, 2))\n",
      "        (13): BatchNorm2d(128, eps=1e-05, momentum=0.1, affine=True, track_running_stats=True)\n",
      "        (14): ReLU()\n",
      "        (15): Conv2d(128, 256, kernel_size=(5, 5), stride=(2, 2))\n",
      "        (16): BatchNorm2d(256, eps=1e-05, momentum=0.1, affine=True, track_running_stats=True)\n",
      "        (17): ReLU()\n",
      "        (18): Conv2d(256, 512, kernel_size=(5, 5), stride=(2, 2))\n",
      "        (19): BatchNorm2d(512, eps=1e-05, momentum=0.1, affine=True, track_running_stats=True)\n",
      "        (20): ReLU()\n",
      "      )\n",
      "    )\n",
      "    (fc): Sequential(\n",
      "      (0): Linear(in_features=8192, out_features=20000, bias=True)\n",
      "    )\n",
      "  )\n",
      "  (cnn1d_short): Conv1d(12, 12, kernel_size=(5,), stride=(1,), padding=(2,))\n",
      "  (cnn1d_long): Conv1d(1, 1, kernel_size=(5,), stride=(1,), padding=(2,))\n",
      "  (s): Sigmoid()\n",
      ")\n"
     ]
    }
   ],
   "source": [
    "from models import NewNet\n",
    "\n",
    "in_h = x.shape[1]\n",
    "in_w = x.shape[2]\n",
    "in_channels = x.shape[3]\n",
    "conv_hidden_channels = [8, 16, 32, 64, 128, 256, 512]\n",
    "conv_kernel_sizes = [3] + [5]*6\n",
    "\n",
    "conv_dropout = None\n",
    "conv_stride = 2\n",
    "conv_dilation = 1\n",
    "conv_batch_norm = True\n",
    "fc_hidden_dims=()\n",
    "\n",
    "l_out_long = 5000\n",
    "l_out_short = 1250\n",
    "short_leads = 12\n",
    "long_leads = 1\n",
    "\n",
    "model = NewNet(in_channels, in_h, in_w,\n",
    "                 conv_hidden_channels, conv_kernel_sizes,\n",
    "                 conv_dropout, conv_stride, conv_dilation, conv_batch_norm,\n",
    "                 fc_hidden_dims, l_out_long, l_out_short, short_leads, long_leads).to(device)\n",
    "print(model)"
   ]
  },
  {
   "cell_type": "code",
   "execution_count": 117,
   "metadata": {},
   "outputs": [
    {
     "name": "stdout",
     "output_type": "stream",
     "text": [
      "BloodSugarSexMagik(\n",
      "  (in_conv): Conv2d(3, 1, kernel_size=(3, 3), stride=(1, 1), padding=(1, 1))\n",
      "  (reLu): ReLU()\n",
      "  (attention_short): Conv2d(13, 12, kernel_size=(3, 3), stride=(1, 1), padding=(1, 1))\n",
      "  (bias_short): Conv2d(13, 12, kernel_size=(3, 3), stride=(1, 1), padding=(1, 1))\n",
      "  (attention_long): Conv2d(2, 1, kernel_size=(3, 3), stride=(1, 1), padding=(1, 1))\n",
      "  (bias_long): Conv2d(2, 1, kernel_size=(3, 3), stride=(1, 1), padding=(1, 1))\n",
      "  (fc_short): Linear(in_features=11745000, out_features=12, bias=True)\n",
      "  (fc_long): Linear(in_features=978750, out_features=1, bias=True)\n",
      ")\n"
     ]
    }
   ],
   "source": [
    "from models import BloodSugarSexMagik\n",
    "\n",
    "in_h = x.shape[1]\n",
    "in_w = x.shape[2]\n",
    "in_channels = x.shape[3]\n",
    "\n",
    "model = BloodSugarSexMagik(in_channels, in_h, in_w).to(device)\n",
    "\n",
    "print(model)"
   ]
  },
  {
   "cell_type": "code",
   "execution_count": 118,
   "metadata": {},
   "outputs": [],
   "source": [
    "x_try = x.transpose(1,2).transpose(1,3)\n",
    "x_try = x_try.to(device, dtype=torch.float)"
   ]
  },
  {
   "cell_type": "code",
   "execution_count": 174,
   "metadata": {},
   "outputs": [
    {
     "name": "stdout",
     "output_type": "stream",
     "text": [
      "torch.Size([1, 12, 675, 1450])\n",
      "torch.Size([1, 12, 675, 1450])\n",
      "torch.Size([1, 12, 675, 1450])\n",
      "torch.Size([1, 12, 675, 1450])\n",
      "torch.Size([1, 12, 675, 1450])\n",
      "torch.Size([1, 12, 675, 1450])\n",
      "torch.Size([1, 12, 675, 1450])\n",
      "torch.Size([1, 12, 675, 1450])\n",
      "torch.Size([1, 12, 675, 1450])\n",
      "torch.Size([1, 12, 675, 1450])\n",
      "torch.Size([1, 12, 675, 1450])\n",
      "torch.Size([1, 12, 675, 1450])\n",
      "torch.Size([1, 12, 675, 1450])\n",
      "torch.Size([1, 12, 675, 1450])\n",
      "torch.Size([1, 12, 675, 1450])\n",
      "torch.Size([1, 12, 675, 1450])\n",
      "torch.Size([1, 12, 675, 1450])\n",
      "torch.Size([1, 12, 675, 1450])\n",
      "torch.Size([1, 12, 675, 1450])\n",
      "torch.Size([1, 12, 675, 1450])\n",
      "Time taken 0.012207984924316406\n",
      "Time taken 0.012531757354736328\n",
      "torch.Size([1, 12, 675, 1450])\n",
      "torch.Size([1, 12, 675, 1450])\n",
      "torch.Size([1, 12, 675, 1450])\n",
      "torch.Size([1, 12, 675, 1450])\n",
      "torch.Size([1, 12, 675, 1450])\n",
      "torch.Size([1, 12, 675, 1450])\n",
      "torch.Size([1, 12, 675, 1450])\n",
      "torch.Size([1, 12, 675, 1450])\n",
      "torch.Size([1, 12, 675, 1450])\n",
      "torch.Size([1, 12, 675, 1450])\n",
      "torch.Size([1, 12, 675, 1450])\n",
      "torch.Size([1, 12, 675, 1450])\n",
      "torch.Size([1, 12, 675, 1450])\n",
      "torch.Size([1, 12, 675, 1450])\n",
      "torch.Size([1, 12, 675, 1450])\n",
      "torch.Size([1, 12, 675, 1450])\n",
      "torch.Size([1, 12, 675, 1450])\n",
      "torch.Size([1, 12, 675, 1450])\n",
      "torch.Size([1, 12, 675, 1450])\n",
      "torch.Size([1, 12, 675, 1450])\n",
      "Time taken 0.01116800308227539\n",
      "Time taken 0.011565923690795898\n",
      "torch.Size([1, 12, 675, 1450])\n",
      "torch.Size([1, 12, 675, 1450])\n",
      "torch.Size([1, 12, 675, 1450])\n",
      "torch.Size([1, 12, 675, 1450])\n",
      "torch.Size([1, 12, 675, 1450])\n",
      "torch.Size([1, 12, 675, 1450])\n",
      "torch.Size([1, 12, 675, 1450])\n",
      "torch.Size([1, 12, 675, 1450])\n",
      "torch.Size([1, 12, 675, 1450])\n",
      "torch.Size([1, 12, 675, 1450])\n",
      "torch.Size([1, 12, 675, 1450])\n",
      "torch.Size([1, 12, 675, 1450])\n",
      "torch.Size([1, 12, 675, 1450])\n",
      "torch.Size([1, 12, 675, 1450])\n",
      "torch.Size([1, 12, 675, 1450])\n",
      "torch.Size([1, 12, 675, 1450])\n",
      "torch.Size([1, 12, 675, 1450])\n",
      "torch.Size([1, 12, 675, 1450])\n",
      "torch.Size([1, 12, 675, 1450])\n",
      "torch.Size([1, 12, 675, 1450])\n",
      "Time taken 0.011081933975219727\n",
      "Time taken 0.011501550674438477\n",
      "torch.Size([1, 12, 675, 1450])\n",
      "torch.Size([1, 12, 675, 1450])\n",
      "torch.Size([1, 12, 675, 1450])\n",
      "torch.Size([1, 12, 675, 1450])\n",
      "torch.Size([1, 12, 675, 1450])\n",
      "torch.Size([1, 12, 675, 1450])\n",
      "torch.Size([1, 12, 675, 1450])\n",
      "torch.Size([1, 12, 675, 1450])\n",
      "torch.Size([1, 12, 675, 1450])\n",
      "torch.Size([1, 12, 675, 1450])\n",
      "torch.Size([1, 12, 675, 1450])\n",
      "torch.Size([1, 12, 675, 1450])\n",
      "torch.Size([1, 12, 675, 1450])\n",
      "torch.Size([1, 12, 675, 1450])\n",
      "torch.Size([1, 12, 675, 1450])\n",
      "torch.Size([1, 12, 675, 1450])\n",
      "torch.Size([1, 12, 675, 1450])\n",
      "torch.Size([1, 12, 675, 1450])\n",
      "torch.Size([1, 12, 675, 1450])\n",
      "torch.Size([1, 12, 675, 1450])\n",
      "Time taken 0.010244607925415039\n",
      "Time taken 0.010767221450805664\n",
      "torch.Size([1, 12, 675, 1450])\n",
      "torch.Size([1, 12, 675, 1450])\n",
      "torch.Size([1, 12, 675, 1450])\n",
      "torch.Size([1, 12, 675, 1450])\n",
      "torch.Size([1, 12, 675, 1450])\n",
      "torch.Size([1, 12, 675, 1450])\n",
      "torch.Size([1, 12, 675, 1450])\n",
      "torch.Size([1, 12, 675, 1450])\n",
      "torch.Size([1, 12, 675, 1450])\n",
      "torch.Size([1, 12, 675, 1450])\n",
      "torch.Size([1, 12, 675, 1450])\n",
      "torch.Size([1, 12, 675, 1450])\n",
      "torch.Size([1, 12, 675, 1450])\n",
      "torch.Size([1, 12, 675, 1450])\n",
      "torch.Size([1, 12, 675, 1450])\n",
      "torch.Size([1, 12, 675, 1450])\n",
      "torch.Size([1, 12, 675, 1450])\n",
      "torch.Size([1, 12, 675, 1450])\n",
      "torch.Size([1, 12, 675, 1450])\n",
      "torch.Size([1, 12, 675, 1450])\n",
      "Time taken 0.011121749877929688\n",
      "Time taken 0.011506795883178711\n",
      "torch.Size([1, 12, 675, 1450])\n",
      "torch.Size([1, 12, 675, 1450])\n",
      "torch.Size([1, 12, 675, 1450])\n",
      "torch.Size([1, 12, 675, 1450])\n",
      "torch.Size([1, 12, 675, 1450])\n",
      "torch.Size([1, 12, 675, 1450])\n",
      "torch.Size([1, 12, 675, 1450])\n",
      "torch.Size([1, 12, 675, 1450])\n",
      "torch.Size([1, 12, 675, 1450])\n",
      "torch.Size([1, 12, 675, 1450])\n",
      "torch.Size([1, 12, 675, 1450])\n",
      "torch.Size([1, 12, 675, 1450])\n",
      "torch.Size([1, 12, 675, 1450])\n",
      "torch.Size([1, 12, 675, 1450])\n",
      "torch.Size([1, 12, 675, 1450])\n",
      "torch.Size([1, 12, 675, 1450])\n",
      "torch.Size([1, 12, 675, 1450])\n",
      "torch.Size([1, 12, 675, 1450])\n",
      "torch.Size([1, 12, 675, 1450])\n",
      "torch.Size([1, 12, 675, 1450])\n",
      "Time taken 0.011009454727172852\n",
      "Time taken 0.011399030685424805\n",
      "torch.Size([1, 12, 675, 1450])\n",
      "torch.Size([1, 12, 675, 1450])\n",
      "torch.Size([1, 12, 675, 1450])\n",
      "torch.Size([1, 12, 675, 1450])\n",
      "torch.Size([1, 12, 675, 1450])\n",
      "torch.Size([1, 12, 675, 1450])\n",
      "torch.Size([1, 12, 675, 1450])\n",
      "torch.Size([1, 12, 675, 1450])\n",
      "torch.Size([1, 12, 675, 1450])\n",
      "torch.Size([1, 12, 675, 1450])\n",
      "torch.Size([1, 12, 675, 1450])\n",
      "torch.Size([1, 12, 675, 1450])\n",
      "torch.Size([1, 12, 675, 1450])\n",
      "torch.Size([1, 12, 675, 1450])\n",
      "torch.Size([1, 12, 675, 1450])\n",
      "torch.Size([1, 12, 675, 1450])\n",
      "torch.Size([1, 12, 675, 1450])\n",
      "torch.Size([1, 12, 675, 1450])\n",
      "torch.Size([1, 12, 675, 1450])\n",
      "torch.Size([1, 12, 675, 1450])\n",
      "Time taken 0.23053193092346191\n",
      "Time taken 0.230942964553833\n",
      "torch.Size([1, 12, 675, 1450])\n",
      "torch.Size([1, 12, 675, 1450])\n",
      "torch.Size([1, 12, 675, 1450])\n",
      "torch.Size([1, 12, 675, 1450])\n",
      "torch.Size([1, 12, 675, 1450])\n",
      "torch.Size([1, 12, 675, 1450])\n",
      "torch.Size([1, 12, 675, 1450])\n",
      "torch.Size([1, 12, 675, 1450])\n",
      "torch.Size([1, 12, 675, 1450])\n",
      "torch.Size([1, 12, 675, 1450])\n",
      "torch.Size([1, 12, 675, 1450])\n",
      "torch.Size([1, 12, 675, 1450])\n",
      "torch.Size([1, 12, 675, 1450])\n",
      "torch.Size([1, 12, 675, 1450])\n",
      "torch.Size([1, 12, 675, 1450])\n",
      "torch.Size([1, 12, 675, 1450])\n",
      "torch.Size([1, 12, 675, 1450])\n",
      "torch.Size([1, 12, 675, 1450])\n",
      "torch.Size([1, 12, 675, 1450])\n",
      "torch.Size([1, 12, 675, 1450])\n",
      "Time taken 0.42760753631591797\n",
      "Time taken 0.42954492568969727\n"
     ]
    }
   ],
   "source": [
    "h = None\n",
    "y_short = torch.Tensor().to(device)\n",
    "y_long = torch.Tensor().to(device)\n",
    "\n",
    "with torch.no_grad():\n",
    "    for i in range(8):\n",
    "        start = time.time()\n",
    "        y_pred, h = model.forward(x_try,h, short_steps=20, long_steps=0, y_short=y_short, y_long=y_long)\n",
    "        end = time.time()\n",
    "        print(f'Time taken {end - start}')"
   ]
  },
  {
   "cell_type": "code",
   "execution_count": 15,
   "metadata": {},
   "outputs": [
    {
     "name": "stdout",
     "output_type": "stream",
     "text": [
      "torch.Size([1, 12, 5])\n",
      "torch.Size([1, 1, 5])\n"
     ]
    }
   ],
   "source": [
    "print(y_pred[0].shape)\n",
    "print(y_pred[1].shape)"
   ]
  },
  {
   "cell_type": "code",
   "execution_count": 9,
   "metadata": {},
   "outputs": [
    {
     "ename": "ValueError",
     "evalue": "x and y must have same first dimension, but have shapes (5000,) and (50000,)",
     "output_type": "error",
     "traceback": [
      "\u001b[0;31m---------------------------------------------------------------------------\u001b[0m",
      "\u001b[0;31mValueError\u001b[0m                                Traceback (most recent call last)",
      "\u001b[0;32m<ipython-input-9-108ff90d18be>\u001b[0m in \u001b[0;36m<module>\u001b[0;34m\u001b[0m\n\u001b[1;32m      3\u001b[0m \u001b[0;34m\u001b[0m\u001b[0m\n\u001b[1;32m      4\u001b[0m \u001b[0mt\u001b[0m \u001b[0;34m=\u001b[0m \u001b[0mnp\u001b[0m\u001b[0;34m.\u001b[0m\u001b[0marange\u001b[0m\u001b[0;34m(\u001b[0m\u001b[0;36m0\u001b[0m\u001b[0;34m,\u001b[0m \u001b[0;36m10\u001b[0m\u001b[0;34m,\u001b[0m \u001b[0;36m1\u001b[0m\u001b[0;34m/\u001b[0m\u001b[0;36m500\u001b[0m\u001b[0;34m)\u001b[0m\u001b[0;34m\u001b[0m\u001b[0;34m\u001b[0m\u001b[0m\n\u001b[0;32m----> 5\u001b[0;31m \u001b[0mplt\u001b[0m\u001b[0;34m.\u001b[0m\u001b[0mplot\u001b[0m\u001b[0;34m(\u001b[0m\u001b[0mt\u001b[0m\u001b[0;34m,\u001b[0m \u001b[0my_pred\u001b[0m\u001b[0;34m[\u001b[0m\u001b[0;36m1\u001b[0m\u001b[0;34m]\u001b[0m\u001b[0;34m.\u001b[0m\u001b[0mflatten\u001b[0m\u001b[0;34m(\u001b[0m\u001b[0;34m)\u001b[0m\u001b[0;34m.\u001b[0m\u001b[0mtolist\u001b[0m\u001b[0;34m(\u001b[0m\u001b[0;34m)\u001b[0m\u001b[0;34m,\u001b[0m \u001b[0mt\u001b[0m\u001b[0;34m,\u001b[0m \u001b[0my\u001b[0m\u001b[0;34m[\u001b[0m\u001b[0;36m1\u001b[0m\u001b[0;34m]\u001b[0m\u001b[0;34m.\u001b[0m\u001b[0mflatten\u001b[0m\u001b[0;34m(\u001b[0m\u001b[0;34m)\u001b[0m\u001b[0;34m.\u001b[0m\u001b[0mtolist\u001b[0m\u001b[0;34m(\u001b[0m\u001b[0;34m)\u001b[0m\u001b[0;34m)\u001b[0m\u001b[0;34m\u001b[0m\u001b[0;34m\u001b[0m\u001b[0m\n\u001b[0m\u001b[1;32m      6\u001b[0m \u001b[0;34m\u001b[0m\u001b[0m\n\u001b[1;32m      7\u001b[0m \u001b[0mprint\u001b[0m\u001b[0;34m(\u001b[0m\u001b[0;34m'Maybe some training will make the reconstruction better...'\u001b[0m\u001b[0;34m)\u001b[0m\u001b[0;34m\u001b[0m\u001b[0;34m\u001b[0m\u001b[0m\n",
      "\u001b[0;32m~/anaconda3/envs/cs236605-hw/lib/python3.7/site-packages/matplotlib/pyplot.py\u001b[0m in \u001b[0;36mplot\u001b[0;34m(scalex, scaley, data, *args, **kwargs)\u001b[0m\n\u001b[1;32m   2809\u001b[0m     return gca().plot(\n\u001b[1;32m   2810\u001b[0m         *args, scalex=scalex, scaley=scaley, **({\"data\": data} if data\n\u001b[0;32m-> 2811\u001b[0;31m         is not None else {}), **kwargs)\n\u001b[0m\u001b[1;32m   2812\u001b[0m \u001b[0;34m\u001b[0m\u001b[0m\n\u001b[1;32m   2813\u001b[0m \u001b[0;34m\u001b[0m\u001b[0m\n",
      "\u001b[0;32m~/anaconda3/envs/cs236605-hw/lib/python3.7/site-packages/matplotlib/__init__.py\u001b[0m in \u001b[0;36minner\u001b[0;34m(ax, data, *args, **kwargs)\u001b[0m\n\u001b[1;32m   1808\u001b[0m                         \u001b[0;34m\"the Matplotlib list!)\"\u001b[0m \u001b[0;34m%\u001b[0m \u001b[0;34m(\u001b[0m\u001b[0mlabel_namer\u001b[0m\u001b[0;34m,\u001b[0m \u001b[0mfunc\u001b[0m\u001b[0;34m.\u001b[0m\u001b[0m__name__\u001b[0m\u001b[0;34m)\u001b[0m\u001b[0;34m,\u001b[0m\u001b[0;34m\u001b[0m\u001b[0;34m\u001b[0m\u001b[0m\n\u001b[1;32m   1809\u001b[0m                         RuntimeWarning, stacklevel=2)\n\u001b[0;32m-> 1810\u001b[0;31m             \u001b[0;32mreturn\u001b[0m \u001b[0mfunc\u001b[0m\u001b[0;34m(\u001b[0m\u001b[0max\u001b[0m\u001b[0;34m,\u001b[0m \u001b[0;34m*\u001b[0m\u001b[0margs\u001b[0m\u001b[0;34m,\u001b[0m \u001b[0;34m**\u001b[0m\u001b[0mkwargs\u001b[0m\u001b[0;34m)\u001b[0m\u001b[0;34m\u001b[0m\u001b[0;34m\u001b[0m\u001b[0m\n\u001b[0m\u001b[1;32m   1811\u001b[0m \u001b[0;34m\u001b[0m\u001b[0m\n\u001b[1;32m   1812\u001b[0m         inner.__doc__ = _add_data_doc(inner.__doc__,\n",
      "\u001b[0;32m~/anaconda3/envs/cs236605-hw/lib/python3.7/site-packages/matplotlib/axes/_axes.py\u001b[0m in \u001b[0;36mplot\u001b[0;34m(self, scalex, scaley, *args, **kwargs)\u001b[0m\n\u001b[1;32m   1609\u001b[0m         \u001b[0mkwargs\u001b[0m \u001b[0;34m=\u001b[0m \u001b[0mcbook\u001b[0m\u001b[0;34m.\u001b[0m\u001b[0mnormalize_kwargs\u001b[0m\u001b[0;34m(\u001b[0m\u001b[0mkwargs\u001b[0m\u001b[0;34m,\u001b[0m \u001b[0mmlines\u001b[0m\u001b[0;34m.\u001b[0m\u001b[0mLine2D\u001b[0m\u001b[0;34m.\u001b[0m\u001b[0m_alias_map\u001b[0m\u001b[0;34m)\u001b[0m\u001b[0;34m\u001b[0m\u001b[0;34m\u001b[0m\u001b[0m\n\u001b[1;32m   1610\u001b[0m \u001b[0;34m\u001b[0m\u001b[0m\n\u001b[0;32m-> 1611\u001b[0;31m         \u001b[0;32mfor\u001b[0m \u001b[0mline\u001b[0m \u001b[0;32min\u001b[0m \u001b[0mself\u001b[0m\u001b[0;34m.\u001b[0m\u001b[0m_get_lines\u001b[0m\u001b[0;34m(\u001b[0m\u001b[0;34m*\u001b[0m\u001b[0margs\u001b[0m\u001b[0;34m,\u001b[0m \u001b[0;34m**\u001b[0m\u001b[0mkwargs\u001b[0m\u001b[0;34m)\u001b[0m\u001b[0;34m:\u001b[0m\u001b[0;34m\u001b[0m\u001b[0;34m\u001b[0m\u001b[0m\n\u001b[0m\u001b[1;32m   1612\u001b[0m             \u001b[0mself\u001b[0m\u001b[0;34m.\u001b[0m\u001b[0madd_line\u001b[0m\u001b[0;34m(\u001b[0m\u001b[0mline\u001b[0m\u001b[0;34m)\u001b[0m\u001b[0;34m\u001b[0m\u001b[0;34m\u001b[0m\u001b[0m\n\u001b[1;32m   1613\u001b[0m             \u001b[0mlines\u001b[0m\u001b[0;34m.\u001b[0m\u001b[0mappend\u001b[0m\u001b[0;34m(\u001b[0m\u001b[0mline\u001b[0m\u001b[0;34m)\u001b[0m\u001b[0;34m\u001b[0m\u001b[0;34m\u001b[0m\u001b[0m\n",
      "\u001b[0;32m~/anaconda3/envs/cs236605-hw/lib/python3.7/site-packages/matplotlib/axes/_base.py\u001b[0m in \u001b[0;36m_grab_next_args\u001b[0;34m(self, *args, **kwargs)\u001b[0m\n\u001b[1;32m    391\u001b[0m                 \u001b[0mthis\u001b[0m \u001b[0;34m+=\u001b[0m \u001b[0margs\u001b[0m\u001b[0;34m[\u001b[0m\u001b[0;36m0\u001b[0m\u001b[0;34m]\u001b[0m\u001b[0;34m,\u001b[0m\u001b[0;34m\u001b[0m\u001b[0;34m\u001b[0m\u001b[0m\n\u001b[1;32m    392\u001b[0m                 \u001b[0margs\u001b[0m \u001b[0;34m=\u001b[0m \u001b[0margs\u001b[0m\u001b[0;34m[\u001b[0m\u001b[0;36m1\u001b[0m\u001b[0;34m:\u001b[0m\u001b[0;34m]\u001b[0m\u001b[0;34m\u001b[0m\u001b[0;34m\u001b[0m\u001b[0m\n\u001b[0;32m--> 393\u001b[0;31m             \u001b[0;32myield\u001b[0m \u001b[0;32mfrom\u001b[0m \u001b[0mself\u001b[0m\u001b[0;34m.\u001b[0m\u001b[0m_plot_args\u001b[0m\u001b[0;34m(\u001b[0m\u001b[0mthis\u001b[0m\u001b[0;34m,\u001b[0m \u001b[0mkwargs\u001b[0m\u001b[0;34m)\u001b[0m\u001b[0;34m\u001b[0m\u001b[0;34m\u001b[0m\u001b[0m\n\u001b[0m\u001b[1;32m    394\u001b[0m \u001b[0;34m\u001b[0m\u001b[0m\n\u001b[1;32m    395\u001b[0m \u001b[0;34m\u001b[0m\u001b[0m\n",
      "\u001b[0;32m~/anaconda3/envs/cs236605-hw/lib/python3.7/site-packages/matplotlib/axes/_base.py\u001b[0m in \u001b[0;36m_plot_args\u001b[0;34m(self, tup, kwargs)\u001b[0m\n\u001b[1;32m    368\u001b[0m             \u001b[0mx\u001b[0m\u001b[0;34m,\u001b[0m \u001b[0my\u001b[0m \u001b[0;34m=\u001b[0m \u001b[0mindex_of\u001b[0m\u001b[0;34m(\u001b[0m\u001b[0mtup\u001b[0m\u001b[0;34m[\u001b[0m\u001b[0;34m-\u001b[0m\u001b[0;36m1\u001b[0m\u001b[0;34m]\u001b[0m\u001b[0;34m)\u001b[0m\u001b[0;34m\u001b[0m\u001b[0;34m\u001b[0m\u001b[0m\n\u001b[1;32m    369\u001b[0m \u001b[0;34m\u001b[0m\u001b[0m\n\u001b[0;32m--> 370\u001b[0;31m         \u001b[0mx\u001b[0m\u001b[0;34m,\u001b[0m \u001b[0my\u001b[0m \u001b[0;34m=\u001b[0m \u001b[0mself\u001b[0m\u001b[0;34m.\u001b[0m\u001b[0m_xy_from_xy\u001b[0m\u001b[0;34m(\u001b[0m\u001b[0mx\u001b[0m\u001b[0;34m,\u001b[0m \u001b[0my\u001b[0m\u001b[0;34m)\u001b[0m\u001b[0;34m\u001b[0m\u001b[0;34m\u001b[0m\u001b[0m\n\u001b[0m\u001b[1;32m    371\u001b[0m \u001b[0;34m\u001b[0m\u001b[0m\n\u001b[1;32m    372\u001b[0m         \u001b[0;32mif\u001b[0m \u001b[0mself\u001b[0m\u001b[0;34m.\u001b[0m\u001b[0mcommand\u001b[0m \u001b[0;34m==\u001b[0m \u001b[0;34m'plot'\u001b[0m\u001b[0;34m:\u001b[0m\u001b[0;34m\u001b[0m\u001b[0;34m\u001b[0m\u001b[0m\n",
      "\u001b[0;32m~/anaconda3/envs/cs236605-hw/lib/python3.7/site-packages/matplotlib/axes/_base.py\u001b[0m in \u001b[0;36m_xy_from_xy\u001b[0;34m(self, x, y)\u001b[0m\n\u001b[1;32m    229\u001b[0m         \u001b[0;32mif\u001b[0m \u001b[0mx\u001b[0m\u001b[0;34m.\u001b[0m\u001b[0mshape\u001b[0m\u001b[0;34m[\u001b[0m\u001b[0;36m0\u001b[0m\u001b[0;34m]\u001b[0m \u001b[0;34m!=\u001b[0m \u001b[0my\u001b[0m\u001b[0;34m.\u001b[0m\u001b[0mshape\u001b[0m\u001b[0;34m[\u001b[0m\u001b[0;36m0\u001b[0m\u001b[0;34m]\u001b[0m\u001b[0;34m:\u001b[0m\u001b[0;34m\u001b[0m\u001b[0;34m\u001b[0m\u001b[0m\n\u001b[1;32m    230\u001b[0m             raise ValueError(\"x and y must have same first dimension, but \"\n\u001b[0;32m--> 231\u001b[0;31m                              \"have shapes {} and {}\".format(x.shape, y.shape))\n\u001b[0m\u001b[1;32m    232\u001b[0m         \u001b[0;32mif\u001b[0m \u001b[0mx\u001b[0m\u001b[0;34m.\u001b[0m\u001b[0mndim\u001b[0m \u001b[0;34m>\u001b[0m \u001b[0;36m2\u001b[0m \u001b[0;32mor\u001b[0m \u001b[0my\u001b[0m\u001b[0;34m.\u001b[0m\u001b[0mndim\u001b[0m \u001b[0;34m>\u001b[0m \u001b[0;36m2\u001b[0m\u001b[0;34m:\u001b[0m\u001b[0;34m\u001b[0m\u001b[0;34m\u001b[0m\u001b[0m\n\u001b[1;32m    233\u001b[0m             raise ValueError(\"x and y can be no greater than 2-D, but have \"\n",
      "\u001b[0;31mValueError\u001b[0m: x and y must have same first dimension, but have shapes (5000,) and (50000,)"
     ]
    },
    {
     "data": {
      "image/png": "[encoded data removed]",
      "text/plain": [
       "<Figure size 432x288 with 1 Axes>"
      ]
     },
     "metadata": {
      "needs_background": "light"
     },
     "output_type": "display_data"
    }
   ],
   "source": [
    "import matplotlib.pyplot as plt\n",
    "import numpy as np\n",
    "\n",
    "t = np.arange(0, 10, 1/500)\n",
    "plt.plot(t, y_pred[1].flatten().tolist(), t, y[1].flatten().tolist())\n",
    "\n",
    "print('Maybe some training will make the reconstruction better...')"
   ]
  },
  {
   "cell_type": "markdown",
   "metadata": {},
   "source": [
    "### Let the game begin - Training"
   ]
  },
  {
   "cell_type": "code",
   "execution_count": 20,
   "metadata": {},
   "outputs": [
    {
     "name": "stdout",
     "output_type": "stream",
     "text": [
      "--- EPOCH 1/100 ---\n",
      "train_batch (Avg. Loss 0.042, Accuracy 0.0): 100%|██████████| 2/2 [00:00<00:00,  2.45it/s]\n",
      "test_batch (Avg. Loss 0.063, Accuracy 0.0): 100%|██████████| 1/1 [00:00<00:00,  2.79it/s]\n",
      "--- EPOCH 11/100 ---\n",
      "train_batch (Avg. Loss 0.024, Accuracy 0.0): 100%|██████████| 2/2 [00:00<00:00,  2.48it/s]\n",
      "test_batch (Avg. Loss 0.067, Accuracy 0.0): 100%|██████████| 1/1 [00:00<00:00,  2.65it/s]\n",
      "--- EPOCH 21/100 ---\n",
      "train_batch (Avg. Loss 0.009, Accuracy 0.0): 100%|██████████| 2/2 [00:00<00:00,  2.53it/s]\n",
      "test_batch (Avg. Loss 0.069, Accuracy 0.0): 100%|██████████| 1/1 [00:00<00:00,  2.78it/s]\n",
      "--- EPOCH 31/100 ---\n",
      "train_batch (Avg. Loss 0.002, Accuracy 0.0): 100%|██████████| 2/2 [00:00<00:00,  2.46it/s]\n",
      "test_batch (Avg. Loss 0.067, Accuracy 0.0): 100%|██████████| 1/1 [00:00<00:00,  2.80it/s]\n",
      "--- EPOCH 41/100 ---\n",
      "train_batch (Avg. Loss 0.000, Accuracy 0.0): 100%|██████████| 2/2 [00:00<00:00,  2.46it/s]\n",
      "test_batch (Avg. Loss 0.068, Accuracy 0.0): 100%|██████████| 1/1 [00:00<00:00,  2.79it/s]\n",
      "--- EPOCH 51/100 ---\n",
      "train_batch (Avg. Loss 0.003, Accuracy 0.0): 100%|██████████| 2/2 [00:00<00:00,  2.40it/s]\n",
      "test_batch (Avg. Loss 0.073, Accuracy 0.0): 100%|██████████| 1/1 [00:00<00:00,  2.80it/s]\n",
      "--- EPOCH 61/100 ---\n",
      "train_batch (Avg. Loss 0.000, Accuracy 0.0): 100%|██████████| 2/2 [00:00<00:00,  2.48it/s]\n",
      "test_batch (Avg. Loss 0.074, Accuracy 0.0): 100%|██████████| 1/1 [00:00<00:00,  2.85it/s]\n",
      "--- EPOCH 71/100 ---\n",
      "train_batch (Avg. Loss 0.000, Accuracy 0.0): 100%|██████████| 2/2 [00:00<00:00,  2.67it/s]\n",
      "test_batch (Avg. Loss 0.074, Accuracy 0.0): 100%|██████████| 1/1 [00:00<00:00,  2.93it/s]\n",
      "--- EPOCH 81/100 ---\n",
      "train_batch (Avg. Loss 0.000, Accuracy 0.0): 100%|██████████| 2/2 [00:00<00:00,  2.48it/s]\n",
      "test_batch (Avg. Loss 0.074, Accuracy 0.0): 100%|██████████| 1/1 [00:00<00:00,  2.80it/s]\n",
      "--- EPOCH 91/100 ---\n",
      "train_batch (Avg. Loss 0.000, Accuracy 0.0): 100%|██████████| 2/2 [00:00<00:00,  2.47it/s]\n",
      "test_batch (Avg. Loss 0.074, Accuracy 0.0): 100%|██████████| 1/1 [00:00<00:00,  2.80it/s]\n",
      "--- EPOCH 100/100 ---\n",
      "train_batch (Avg. Loss 0.000, Accuracy 0.0): 100%|██████████| 2/2 [00:00<00:00,  2.47it/s]\n",
      "test_batch (Avg. Loss 0.074, Accuracy 0.0): 100%|██████████| 1/1 [00:00<00:00,  2.78it/s]\n"
     ]
    },
    {
     "data": {
      "text/plain": [
       "[<matplotlib.lines.Line2D at 0x7f4a48145eb8>,\n",
       " <matplotlib.lines.Line2D at 0x7f4a4814e048>]"
      ]
     },
     "execution_count": 20,
     "metadata": {},
     "output_type": "execute_result"
    },
    {
     "data": {
      "image/png": "[encoded data removed]",
      "text/plain": [
       "<Figure size 432x288 with 1 Axes>"
      ]
     },
     "metadata": {
      "needs_background": "light"
     },
     "output_type": "display_data"
    }
   ],
   "source": [
    "import torch.nn as nn\n",
    "import torch.optim as optim\n",
    "from training import EcgImageToDigitizedTrainer\n",
    "from torch.nn import functional as F\n",
    "\n",
    "torch.manual_seed(42)\n",
    "\n",
    "lr = 0.01\n",
    "num_epochs = 100\n",
    "\n",
    "def maxLoss(y_tag, y):\n",
    "    return torch.mean(torch.max(torch.abs(y_tag-y), dim=2)[0])\n",
    "\n",
    "def fancyLoss(y_tag, y):\n",
    "    loss = F.mse_loss(y, y_tag)\n",
    "    dy = y[:,:, 1:] - y[:,:, :-1]\n",
    "    dy_tag = y_tag[:, :, 1:] - y_tag[:, :, :-1]\n",
    "    diff_loss = F.mse_loss(dy*500,dy_tag*500)\n",
    "    max_loss = torch.mean(torch.max(torch.abs(y_tag-y), dim=2)[0])\n",
    "    loss = loss + diff_loss + max_loss\n",
    "    return loss\n",
    "\n",
    "loss_fn = nn.MSELoss()\n",
    "#loss_fn = maxLoss\n",
    "#loss_fn = fancyLoss\n",
    "\n",
    "optimizer = optim.Adam(model.parameters(), lr=lr)\n",
    "trainer = EcgImageToDigitizedTrainer(model, loss_fn, optimizer, device)\n",
    "\n",
    "fitResult = trainer.fit(dl_train, dl_val, num_epochs, #checkpoints=r'checkpoints/Ecg12LeadImageNet',\n",
    "                        early_stopping=1000, print_every=10)\n",
    "\n",
    "x, y = iter(dl_train).next()\n",
    "x_try = x.transpose(1,2).transpose(1,3)\n",
    "x_try = x_try.to(device, dtype=torch.float)\n",
    "y_pred = model(x_try)\n",
    "t = np.arange(0, 10, 1/500)\n",
    "plt.plot(t, y_pred[1][0].flatten().tolist(), t, y[1][0].flatten().tolist())"
   ]
  },
  {
   "cell_type": "code",
   "execution_count": 29,
   "metadata": {},
   "outputs": [
    {
     "data": {
      "text/plain": [
       "[<matplotlib.lines.Line2D at 0x7f4a6d35c6a0>,\n",
       " <matplotlib.lines.Line2D at 0x7f4a6d35c7f0>]"
      ]
     },
     "execution_count": 29,
     "metadata": {},
     "output_type": "execute_result"
    },
    {
     "data": {
      "image/png": "[encoded data removed]",
      "text/plain": [
       "<Figure size 432x288 with 1 Axes>"
      ]
     },
     "metadata": {
      "needs_background": "light"
     },
     "output_type": "display_data"
    },
    {
     "data": {
      "image/png": "[encoded data removed]",
      "text/plain": [
       "<Figure size 432x288 with 1 Axes>"
      ]
     },
     "metadata": {
      "needs_background": "light"
     },
     "output_type": "display_data"
    }
   ],
   "source": [
    "import torch.nn as nn\n",
    "\n",
    "s = nn.Sigmoid()\n",
    "\n",
    "it = iter(dl_test)\n",
    "x, y = it.next()\n",
    "x_try = x.transpose(1,2).transpose(1,3)\n",
    "x_try = x_try.to(device, dtype=torch.float)\n",
    "with torch.no_grad():\n",
    "    y_pred = model(x_try)\n",
    "t = np.arange(0, 10, 1/500)\n",
    "#plt.plot(t, y_pred[1][0].flatten().tolist(), t, y[1][0].flatten().tolist())\n",
    "\n",
    "\n",
    "plt.figure()\n",
    "x, y = it.next()\n",
    "x_try = x.transpose(1,2).transpose(1,3)\n",
    "x_try = x_try.to(device, dtype=torch.float)\n",
    "with torch.no_grad():\n",
    "    y_pred = model(x_try)\n",
    "t1 = np.arange(0, 2.5, 1/500)\n",
    "t = np.arange(0, 10, 1/500)\n",
    "\n",
    "plt.plot(t, y_pred[1][0].flatten().tolist(), t, y[1][0].flatten().tolist())\n",
    "\n",
    "plt.figure()\n",
    "l = 9\n",
    "plt.plot(t1, y_pred[0][0][l].flatten().tolist(), t1, y[0][0][l].flatten().tolist())"
   ]
  },
  {
   "cell_type": "code",
   "execution_count": null,
   "metadata": {},
   "outputs": [],
   "source": [
    "import matplotlib.pyplot as plt\n",
    "\n",
    "plt.plot(fitResult.train_loss)"
   ]
  },
  {
   "cell_type": "code",
   "execution_count": 13,
   "metadata": {},
   "outputs": [
    {
     "data": {
      "text/plain": [
       "device(type='cpu')"
      ]
     },
     "execution_count": 13,
     "metadata": {},
     "output_type": "execute_result"
    }
   ],
   "source": [
    "x.device"
   ]
  },
  {
   "cell_type": "code",
   "execution_count": 164,
   "metadata": {},
   "outputs": [
    {
     "data": {
      "text/plain": [
       "1.0"
      ]
     },
     "execution_count": 164,
     "metadata": {},
     "output_type": "execute_result"
    }
   ],
   "source": [
    "4/4"
   ]
  },
  {
   "cell_type": "code",
   "execution_count": null,
   "metadata": {},
   "outputs": [],
   "source": []
  }
 ],
 "metadata": {
  "kernelspec": {
   "display_name": "Python 3",
   "language": "python",
   "name": "python3"
  },
  "language_info": {
   "codemirror_mode": {
    "name": "ipython",
    "version": 3
   },
   "file_extension": ".py",
   "mimetype": "text/x-python",
   "name": "python",
   "nbconvert_exporter": "python",
   "pygments_lexer": "ipython3",
   "version": "3.7.3"
  }
 },
 "nbformat": 4,
 "nbformat_minor": 2
}
